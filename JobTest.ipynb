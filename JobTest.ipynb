{
 "cells": [
  {
   "cell_type": "code",
   "execution_count": 1,
   "metadata": {
    "collapsed": true
   },
   "outputs": [],
   "source": [
    "import pandas as pd"
   ]
  },
  {
   "cell_type": "code",
   "execution_count": 2,
   "metadata": {},
   "outputs": [
    {
     "data": {
      "text/html": [
       "<div>\n",
       "<style>\n",
       "    .dataframe thead tr:only-child th {\n",
       "        text-align: right;\n",
       "    }\n",
       "\n",
       "    .dataframe thead th {\n",
       "        text-align: left;\n",
       "    }\n",
       "\n",
       "    .dataframe tbody tr th {\n",
       "        vertical-align: top;\n",
       "    }\n",
       "</style>\n",
       "<table border=\"1\" class=\"dataframe\">\n",
       "  <thead>\n",
       "    <tr style=\"text-align: right;\">\n",
       "      <th></th>\n",
       "      <th>Summons Number</th>\n",
       "      <th>Plate ID</th>\n",
       "      <th>Registration State</th>\n",
       "      <th>Plate Type</th>\n",
       "      <th>Issue Date</th>\n",
       "      <th>Violation Code</th>\n",
       "      <th>Vehicle Body Type</th>\n",
       "      <th>Vehicle Make</th>\n",
       "      <th>Issuing Agency</th>\n",
       "      <th>Street Code1</th>\n",
       "      <th>...</th>\n",
       "      <th>Vehicle Color</th>\n",
       "      <th>Unregistered Vehicle?</th>\n",
       "      <th>Vehicle Year</th>\n",
       "      <th>Meter Number</th>\n",
       "      <th>Feet From Curb</th>\n",
       "      <th>Violation Post Code</th>\n",
       "      <th>Violation Description</th>\n",
       "      <th>No Standing or Stopping Violation</th>\n",
       "      <th>Hydrant Violation</th>\n",
       "      <th>Double Parking Violation</th>\n",
       "    </tr>\n",
       "  </thead>\n",
       "  <tbody>\n",
       "    <tr>\n",
       "      <th>0</th>\n",
       "      <td>1398749692</td>\n",
       "      <td>HXL0464</td>\n",
       "      <td>PA</td>\n",
       "      <td>PAS</td>\n",
       "      <td>06/24/2017</td>\n",
       "      <td>14.0</td>\n",
       "      <td>VAN</td>\n",
       "      <td>JEEP</td>\n",
       "      <td>P</td>\n",
       "      <td>38430.0</td>\n",
       "      <td>...</td>\n",
       "      <td>GY</td>\n",
       "      <td>0.0</td>\n",
       "      <td>0.0</td>\n",
       "      <td>-</td>\n",
       "      <td>0.0</td>\n",
       "      <td>NaN</td>\n",
       "      <td>NaN</td>\n",
       "      <td>NaN</td>\n",
       "      <td>NaN</td>\n",
       "      <td>NaN</td>\n",
       "    </tr>\n",
       "    <tr>\n",
       "      <th>1</th>\n",
       "      <td>1398751765</td>\n",
       "      <td>HSL6756</td>\n",
       "      <td>NY</td>\n",
       "      <td>PAS</td>\n",
       "      <td>07/11/2017</td>\n",
       "      <td>16.0</td>\n",
       "      <td>SDN</td>\n",
       "      <td>NISSA</td>\n",
       "      <td>P</td>\n",
       "      <td>13610.0</td>\n",
       "      <td>...</td>\n",
       "      <td>GRAY</td>\n",
       "      <td>0.0</td>\n",
       "      <td>2017.0</td>\n",
       "      <td>-</td>\n",
       "      <td>0.0</td>\n",
       "      <td>NaN</td>\n",
       "      <td>NaN</td>\n",
       "      <td>NaN</td>\n",
       "      <td>NaN</td>\n",
       "      <td>NaN</td>\n",
       "    </tr>\n",
       "    <tr>\n",
       "      <th>2</th>\n",
       "      <td>1398759193</td>\n",
       "      <td>GWY8601</td>\n",
       "      <td>NY</td>\n",
       "      <td>PAS</td>\n",
       "      <td>07/10/2017</td>\n",
       "      <td>51.0</td>\n",
       "      <td>SUBN</td>\n",
       "      <td>BMW</td>\n",
       "      <td>P</td>\n",
       "      <td>0.0</td>\n",
       "      <td>...</td>\n",
       "      <td>BLACK</td>\n",
       "      <td>0.0</td>\n",
       "      <td>2005.0</td>\n",
       "      <td>-</td>\n",
       "      <td>0.0</td>\n",
       "      <td>NaN</td>\n",
       "      <td>NaN</td>\n",
       "      <td>NaN</td>\n",
       "      <td>NaN</td>\n",
       "      <td>NaN</td>\n",
       "    </tr>\n",
       "    <tr>\n",
       "      <th>3</th>\n",
       "      <td>1399031417</td>\n",
       "      <td>K518GN</td>\n",
       "      <td>NY</td>\n",
       "      <td>999</td>\n",
       "      <td>07/14/2017</td>\n",
       "      <td>21.0</td>\n",
       "      <td>SDN</td>\n",
       "      <td>NISSA</td>\n",
       "      <td>S</td>\n",
       "      <td>26790.0</td>\n",
       "      <td>...</td>\n",
       "      <td>BLUE</td>\n",
       "      <td>0.0</td>\n",
       "      <td>0.0</td>\n",
       "      <td>-</td>\n",
       "      <td>0.0</td>\n",
       "      <td>NaN</td>\n",
       "      <td>NaN</td>\n",
       "      <td>NaN</td>\n",
       "      <td>NaN</td>\n",
       "      <td>NaN</td>\n",
       "    </tr>\n",
       "    <tr>\n",
       "      <th>4</th>\n",
       "      <td>1399031466</td>\n",
       "      <td>HDG7313</td>\n",
       "      <td>NY</td>\n",
       "      <td>PAS</td>\n",
       "      <td>07/03/2017</td>\n",
       "      <td>21.0</td>\n",
       "      <td>SDN</td>\n",
       "      <td>VOLKS</td>\n",
       "      <td>S</td>\n",
       "      <td>21790.0</td>\n",
       "      <td>...</td>\n",
       "      <td>GRAY</td>\n",
       "      <td>0.0</td>\n",
       "      <td>2008.0</td>\n",
       "      <td>-</td>\n",
       "      <td>0.0</td>\n",
       "      <td>NaN</td>\n",
       "      <td>NaN</td>\n",
       "      <td>NaN</td>\n",
       "      <td>NaN</td>\n",
       "      <td>NaN</td>\n",
       "    </tr>\n",
       "  </tbody>\n",
       "</table>\n",
       "<p>5 rows × 43 columns</p>\n",
       "</div>"
      ],
      "text/plain": [
       "  Summons Number Plate ID Registration State Plate Type  Issue Date  \\\n",
       "0     1398749692  HXL0464                 PA        PAS  06/24/2017   \n",
       "1     1398751765  HSL6756                 NY        PAS  07/11/2017   \n",
       "2     1398759193  GWY8601                 NY        PAS  07/10/2017   \n",
       "3     1399031417   K518GN                 NY        999  07/14/2017   \n",
       "4     1399031466  HDG7313                 NY        PAS  07/03/2017   \n",
       "\n",
       "   Violation Code Vehicle Body Type Vehicle Make Issuing Agency  Street Code1  \\\n",
       "0            14.0               VAN         JEEP              P       38430.0   \n",
       "1            16.0               SDN        NISSA              P       13610.0   \n",
       "2            51.0              SUBN          BMW              P           0.0   \n",
       "3            21.0               SDN        NISSA              S       26790.0   \n",
       "4            21.0               SDN        VOLKS              S       21790.0   \n",
       "\n",
       "            ...             Vehicle Color  Unregistered Vehicle?  \\\n",
       "0           ...                        GY                    0.0   \n",
       "1           ...                      GRAY                    0.0   \n",
       "2           ...                     BLACK                    0.0   \n",
       "3           ...                      BLUE                    0.0   \n",
       "4           ...                      GRAY                    0.0   \n",
       "\n",
       "   Vehicle Year  Meter Number  Feet From Curb  Violation Post Code  \\\n",
       "0           0.0             -             0.0                  NaN   \n",
       "1        2017.0             -             0.0                  NaN   \n",
       "2        2005.0             -             0.0                  NaN   \n",
       "3           0.0             -             0.0                  NaN   \n",
       "4        2008.0             -             0.0                  NaN   \n",
       "\n",
       "   Violation Description No Standing or Stopping Violation  Hydrant Violation  \\\n",
       "0                    NaN                               NaN                NaN   \n",
       "1                    NaN                               NaN                NaN   \n",
       "2                    NaN                               NaN                NaN   \n",
       "3                    NaN                               NaN                NaN   \n",
       "4                    NaN                               NaN                NaN   \n",
       "\n",
       "  Double Parking Violation  \n",
       "0                      NaN  \n",
       "1                      NaN  \n",
       "2                      NaN  \n",
       "3                      NaN  \n",
       "4                      NaN  \n",
       "\n",
       "[5 rows x 43 columns]"
      ]
     },
     "execution_count": 2,
     "metadata": {},
     "output_type": "execute_result"
    }
   ],
   "source": [
    "Location = r'C:\\Users\\laraa\\Documents\\Python Scripts\\Data\\Parking_Violations_Issued_-_Fiscal_Year_2018.csv'\n",
    "df = pd.read_csv(Location)\n",
    "df.head()"
   ]
  },
  {
   "cell_type": "code",
   "execution_count": 71,
   "metadata": {},
   "outputs": [
    {
     "name": "stdout",
     "output_type": "stream",
     "text": [
      "nan\n",
      "nan\n",
      "616\n"
     ]
    }
   ],
   "source": [
    "time =df['Violation Time']\n",
    "count = 0\n",
    "for i in time:\n",
    "    if type(i) == str:\n",
    "        if 'A' in i:\n",
    "            count += 1\n",
    "           \n",
    "    else:\n",
    "        print(i)\n",
    "        \n",
    "print(count)"
   ]
  },
  {
   "cell_type": "code",
   "execution_count": 72,
   "metadata": {},
   "outputs": [
    {
     "name": "stdout",
     "output_type": "stream",
     "text": [
      "Frequency of the elements in the List :  Counter({'TOYOT': 183, 'HONDA': 180, 'NISSA': 131, 'FORD': 85, 'ME/BE': 70, 'CHEVR': 67, 'JEEP': 63, 'BMW': 58, 'HYUND': 46, 'DODGE': 39, 'CHRYS': 25, 'ACURA': 24, 'VOLKS': 23, 'LINCO': 23, 'INFIN': 23, 'KIA': 22, 'GMC': 21, 'AUDI': 21, nan: 20, 'LEXUS': 19, 'MAZDA': 17, 'CADIL': 14, 'VOLVO': 11, 'MITSU': 11, 'SUBAR': 10, 'MERCU': 10, 'ROVER': 9, 'MINI': 5, 'HYUN': 4, 'BUICK': 4, 'SMART': 3, 'WABA': 3, 'SAAB': 3, 'JAGUA': 3, 'PORSC': 2, 'SATUR': 2, 'SCION': 2, 'INTER': 1, 'MARKY': 1, 'TESLA': 1, 'MARE': 1, 'HUMME': 1, 'LANDS': 1, 'ROLLS': 1, 'SUZUK': 1, 'INFI': 1, 'FIAT': 1, 'HARLE': 1, 'PONTI': 1})\n"
     ]
    }
   ],
   "source": [
    "#frequency\n",
    "import collections\n",
    "marke = df['Vehicle Make']\n",
    "zahl = collections.Counter(marke)\n",
    "print(\"Frequency of the elements in the List : \",zahl)\n"
   ]
  },
  {
   "cell_type": "code",
   "execution_count": 39,
   "metadata": {},
   "outputs": [
    {
     "name": "stdout",
     "output_type": "stream",
     "text": [
      "Frequency of the elements in the List :  Counter({'TOYOT': 183, 'HONDA': 180, 'NISSA': 131, 'FORD': 85, 'ME/BE': 70, 'CHEVR': 67, 'JEEP': 63, 'BMW': 58, 'HYUND': 46, 'DODGE': 39, 'CHRYS': 25, 'ACURA': 24, 'VOLKS': 23, 'LINCO': 23, 'INFIN': 23, 'KIA': 22, 'GMC': 21, 'AUDI': 21, nan: 20, 'LEXUS': 19, 'MAZDA': 17, 'CADIL': 14, 'VOLVO': 11, 'MITSU': 11, 'SUBAR': 10, 'MERCU': 10, 'ROVER': 9, 'MINI': 5, 'HYUN': 4, 'BUICK': 4, 'SMART': 3, 'WABA': 3, 'SAAB': 3, 'JAGUA': 3, 'PORSC': 2, 'SATUR': 2, 'SCION': 2, 'INTER': 1, 'MARKY': 1, 'TESLA': 1, 'MARE': 1, 'HUMME': 1, 'LANDS': 1, 'ROLLS': 1, 'SUZUK': 1, 'INFI': 1, 'FIAT': 1, 'HARLE': 1, 'PONTI': 1})\n",
      "<class 'list'>\n",
      "131\n",
      "5\n",
      "11\n"
     ]
    }
   ],
   "source": [
    "#frequency\n",
    "import collections\n",
    "marke = df['Vehicle Make']\n",
    "\n",
    "marke = marke.tolist()\n",
    "MINI = marke.count(\"MINI\")\n",
    "NISSA = marke.count(\"NISSA\")\n",
    "MITSU = marke.count(\"MITSU\")\n",
    "ctr = collections.Counter(marke)\n",
    "print(\"Frequency of the elements in the List : \",ctr)\n",
    "        \n",
    "print(type(marke))\n",
    "print(NISSA)\n",
    "print(MINI)\n",
    "print(MITSU)\n",
    "#print(y)"
   ]
  },
  {
   "cell_type": "code",
   "execution_count": 42,
   "metadata": {},
   "outputs": [
    {
     "name": "stdout",
     "output_type": "stream",
     "text": [
      "Local current time : Tue Feb 13 19:15:30 2018\n"
     ]
    }
   ],
   "source": [
    "import time;\n",
    "\n",
    "localtime = time.asctime( time.localtime(time.time()) )\n",
    "print (\"Local current time :\", localtime)"
   ]
  },
  {
   "cell_type": "code",
   "execution_count": 69,
   "metadata": {},
   "outputs": [
    {
     "name": "stdout",
     "output_type": "stream",
     "text": [
      "AM: 616\n",
      "PM: 650\n"
     ]
    }
   ],
   "source": [
    "zeit = df['Violation Time']\n",
    "am = 0\n",
    "pm = 0\n",
    "for zeile in zeit:\n",
    "    if type(zeile) == str:\n",
    "        if 'A' in zeile:\n",
    "            am += 1\n",
    "        elif 'P' in zeile:\n",
    "            pm += 1\n",
    "print(\"AM:\", am)\n",
    "print(\"PM:\", pm)\n",
    "        "
   ]
  },
  {
   "cell_type": "code",
   "execution_count": 132,
   "metadata": {},
   "outputs": [
    {
     "data": {
      "text/plain": [
       "0       0625A\n",
       "1       0957A\n",
       "2       0136P\n",
       "3       1006A\n",
       "4       1156A\n",
       "5       0325A\n",
       "6       0836A\n",
       "7       0838A\n",
       "8       0841A\n",
       "9       0843A\n",
       "10      0836A\n",
       "11      0948A\n",
       "12      0816A\n",
       "13      1120A\n",
       "14      0910A\n",
       "15      0943A\n",
       "16      0130A\n",
       "17      0737A\n",
       "18      0737A\n",
       "19      0741A\n",
       "20      0808A\n",
       "21      0813A\n",
       "22      0836A\n",
       "23      0838A\n",
       "24      0846A\n",
       "25      0839A\n",
       "26      1115A\n",
       "27      1115A\n",
       "28      0150A\n",
       "29      0157A\n",
       "        ...  \n",
       "1238    1113P\n",
       "1239    1033P\n",
       "1240    0717A\n",
       "1241    0120A\n",
       "1242    0110A\n",
       "1243    0105A\n",
       "1244    1143A\n",
       "1245    0211P\n",
       "1246    0858A\n",
       "1247    0318P\n",
       "1248    1121P\n",
       "1249    0258P\n",
       "1250    1011A\n",
       "1251    0539A\n",
       "1252    0547A\n",
       "1253    0614A\n",
       "1254    0625A\n",
       "1255    0834A\n",
       "1256    0926A\n",
       "1257    0958A\n",
       "1258    1107A\n",
       "1259    0520A\n",
       "1260    0525A\n",
       "1261    0543A\n",
       "1262    0557A\n",
       "1263    0611A\n",
       "1264    0624A\n",
       "1265    0727A\n",
       "1266    0810A\n",
       "1267    0821A\n",
       "Name: Violation Time, Length: 1268, dtype: object"
      ]
     },
     "execution_count": 132,
     "metadata": {},
     "output_type": "execute_result"
    }
   ],
   "source": [
    "df['Violation Time']\n"
   ]
  },
  {
   "cell_type": "code",
   "execution_count": 137,
   "metadata": {},
   "outputs": [
    {
     "name": "stdout",
     "output_type": "stream",
     "text": [
      "['06:25', '09:57', '13:36', '10:06', '11:56', '03:25', '08:36', '08:38', '08:41', '08:43', '08:36', '09:48', '08:16', '11:20', '09:10', '09:43', '01:30', '07:37', '07:37', '07:41', '08:08', '08:13', '08:36', '08:38', '08:46', '08:39', '11:15', '11:15', '01:50', '01:57', '02:03', '02:10', '11:55', '12:00', '07:42', '07:35', '06:55', '07:15', '07:30', '07:35', '07:41', '07:42', '08:02', '09:50', '08:36', '12:45', '07:20', '11:06', '11:10', '09:35', '11:19', '09:21', '07:38', '07:38', '07:38', '01:30', '12:10', '01:11', '12:42', '01:14', '01:18', '12:35', '12:42', '12:30', '09:15', '09:20', '10:44', '10:51', '10:02', '09:59', '09:33', '17:33', '14:52', '19:11', '19:09', '19:20', '19:05', '19:04', '03:12', '16:11', '13:17', '13:14', '01:12', '18:05', '18:40', '19:16', '19:23', '14:30', '19:25', '10:45', '19:47', '19:35', '19:24', '19:26', '19:32', '20:15', '18:45', '09:44', '11:18', '09:57', '15:41', '08:50', '19:39', '19:29', '05:12', '01:20', '13:15', '13:08', '13:05', '17:40', '09:40', '11:28', '21:45', '08:12', '23:09', '08:50', '08:06', '08:15', '15:14', '17:39', '14:22', '22:08', '02:00', '04:00', '04:40', '04:45', '00:39', '20:00', '17:05', '01:25', '10:10', '12:05', '01:20', '13:07', '08:13', '08:29', '13:52', '21:18', '21:18', '23:52', '18:48', '22:35', '22:15', '16:10', '08:47', '09:15', '08:40', '12:10', '03:40', '03:55', '12:38', '03:16', '03:43', '05:39', '03:35', '03:38', '03:30', '12:35', '10:40', '10:50', '20:10', '08:35', '08:40', '09:58', '09:02', '10:30', '10:48', '11:00', '09:35', '10:44', '11:42', '08:18', '12:27', '12:38', '12:45', '11:05', '10:40', '08:30', '17:39', '17:58', '18:50', '17:40', '17:28', '17:53', '20:05', '10:20', '18:35', '01:40', '21:00', '12:45', '18:33', '20:20', '17:27', '11:54', '16:25', '11:34', '15:44', '16:02', '12:50', '10:40', '10:19', '10:52', '10:57', '11:36', '12:14', '11:15', '11:40', '12:05', '12:20', '11:00', '08:10', '12:10', '09:37', '11:43', '14:20', '09:52', '09:50', '11:25', '12:24', '05:23', '12:12', '11:07', '11:05', '09:25', '18:30', '09:30', '01:24', '13:10', '01:20', '11:42', '11:37', '11:39', '11:30', '15:40', '15:35', '15:33', '12:45', '12:42', '12:40', '14:30', '14:23', '11:36', '12:15', '13:53', '13:02', '12:58', '09:02', '09:09', '08:40', '10:43', '10:57', '09:20', '08:55', '11:16', '16:01', '15:58', '10:07', '10:09', '09:52', '15:10', '17:45', '12:43', '12:55', '15:56', '12:05', '12:00', '03:12', '15:47', '15:43', '15:32', '15:45', '09:37', '09:49', '16:25', '17:22', '17:25', '16:28', '12:41', '15:20', '15:22', '15:24', '15:41', '16:00', '11:29', '12:15', '12:56', '19:30', '19:38', '14:18', '18:03', '13:06', '13:36', '09:01', '09:33', '17:47', '18:17', '17:13', '10:57', '10:49', '10:13', '11:55', '09:30', '09:27', '18:27', '18:15', '17:38', '18:28', '11:00', '16:23', '11:37', '11:42', '13:15', '13:19', '18:25', '14:24', '16:38', '11:10', '11:55', '12:07', '16:29', '17:31', '16:50', '16:30', '16:44', '09:00', '17:31', '15:42', '16:45', '20:18', '20:22', '17:20', '13:35', '14:38', '10:16', '07:40', '07:55', '08:00', '08:20', '08:58', '07:28', '08:00', '08:00', '10:06', '10:20', '10:25', '10:35', '09:05', '09:24', '09:50', '10:02', '10:25', '10:30', '21:01', '03:30', '03:50', '03:27', '08:35', '11:30', '12:30', '09:40', '02:12', '15:27', '22:20', '16:00', '10:28', '14:00', '08:47', '12:54', '08:50', '12:43', '18:31', '18:34', '06:12', '20:41', '18:57', '19:20', '05:28', '03:30', '04:35', '04:47', '01:30', '01:35', '13:34', '14:33', '09:53', '09:17', '08:37', '08:43', '13:45', '09:12', '08:48', '12:48', '21:51', '06:22', '02:47', '22:06', '08:45', '20:57', '12:10', '23:15', '21:40', '22:55', '01:24', '01:30', '23:04', '01:54', '23:40', '22:55', '23:00', '17:39', '10:05', '01:28', '01:21', '02:41', '08:40', '02:30', '02:46', '01:49', '13:46', '22:07', '22:10', '15:04', '12:17', '12:21', '09:12', '07:51', '16:44', '02:56', '08:17', '01:52', '01:59', '06:43', '01:03', '01:13', '01:16', '01:21', '15:22', '15:28', '10:01', '10:06', '10:10', '10:22', '10:59', '12:20', '17:31', '13:33', '19:45', '14:34', '15:52', '15:13', '09:10', '10:30', '09:00', '16:30', '17:07', '17:30', '16:29', '16:30', '16:27', '16:27', '17:11', '13:30', '12:20', '12:28', '12:30', '08:52', '09:50', '10:03', '09:56', '09:28', '11:40', '09:17', '09:50', '09:05', '09:05', '09:13', '11:45', '10:37', '13:40', '15:43', '11:03', '11:23', '11:26', '11:39', '11:32', '21:57', '17:23', '22:45', '18:54', '18:10', '19:45', '20:07', '09:03', '18:30', '15:45', '16:55', '21:45', '15:10', '05:25', '11:20', '18:00', '20:10', '20:20', '22:39', '22:30', '21:40', '22:30', '11:33', '11:37', '12:45', '21:50', '14:30', '16:40', '20:15', '19:10', '18:50', '18:00', '14:11', '15:00', '22:30', '17:46', '11:29', '14:34', '15:46', '16:56', '17:03', '19:19', '20:45', '20:47', '20:57', '19:31', '19:24', '18:53', '17:59', '17:53', '17:40', '12:28', '12:32', '12:36', '12:37', '12:18', '12:20', '22:38', '12:55', '12:50', '22:50', '22:32', '22:17', '13:16', '15:30', '22:33', '22:27', '22:03', '22:29', '21:19', '16:39', '20:02', '21:10', '21:20', '22:10', '22:20', '09:35', '10:05', '10:09', '10:23', '10:27', '09:38', '09:51', '09:55', '10:40', '10:08', '10:17', '10:04', '10:07', '10:12', '12:59', '13:02', '10:11', '10:42', '11:11', '11:16', '20:52', '19:39', '19:45', '19:48', '08:40', '08:58', '09:34', '09:37', '09:50', '09:03', '09:17', '09:24', '11:39', '11:39', '12:02', '12:54', '08:32', '10:08', '10:24', '10:27', '10:33', '10:38', '10:43', '10:45', '20:58', '10:49', '10:51', '10:52', '10:53', '11:00', '09:46', '09:47', '09:50', '09:40', '09:42', '09:45', '01:59', '12:45', '10:08', '08:07', '10:31', '08:24', '14:16', '07:53', '11:53', '02:30', '08:13', '08:16', '08:19', '08:34', '08:40', '03:20', '12:56', '08:00', '11:44', '08:38', '10:02', '10:18', '10:21', '10:22', '10:29', '10:27', '10:29', '10:46', '10:59', '12:57', '09:37', '20:16', '20:28', '18:34', '18:37', '18:39', '18:42', '18:23', '18:35', '18:27', '18:08', '21:23', '20:35', '20:35', '14:30', '16:35', '17:15', '19:15', '08:11', '17:40', '09:34', '10:31', '15:37', '22:09', '15:48', '01:10', '12:20', '17:32', '17:37', '17:47', '20:54', '11:27', '18:56', '21:05', '22:29', '14:28', '14:25', '14:21', '16:04', '18:19', '22:32', '16:42', '16:38', '15:36', '22:05', '12:18', '12:32', '14:10', '12:22', '14:20', '14:24', '15:18', '09:45', '22:02', '22:11', '15:37', '15:41', '15:08', '21:42', '20:25', '20:28', '22:06', '22:08', '10:30', '22:34', '14:40', '17:24', '17:29', '15:56', '22:13', '22:54', '21:42', '11:22', '22:30', '22:37', '22:50', '22:28', '22:26', '22:04', '22:09', '16:50', '17:14', '17:20', '17:30', '17:42', '16:08', '16:14', '15:54', '16:05', '16:10', '17:31', '17:42', '17:48', '17:53', '06:01', '18:10', '18:16', '15:02', '22:00', '22:20', '12:05', '12:07', '12:13', '12:31', '12:10', '21:02', '12:10', '22:20', '22:05', '12:52', '12:55', '12:15', '18:40', '12:40', '12:31', '12:30', '12:25', '12:20', '12:14', '01:08', '12:18', '22:30', '01:25', '01:27', '12:15', '17:29', '17:29', '01:40', '01:40', '22:30', '18:00', '17:50', '17:45', '17:40', '10:15', '07:18', '10:10', '10:16', '17:11', '17:55', '18:28', '18:30', '07:40', '09:30', '13:54', '14:44', '14:46', '16:05', '16:15', '16:20', '12:24', '12:27', '12:30', '09:31', '09:50', '09:45', '12:36', '07:42', '07:45', '08:13', '08:31', '08:33', '10:04', '10:06', '10:17', '10:33', '10:38', '11:00', '11:02', '11:12', '11:12', '11:19', '11:20', '10:01', '11:27', '11:29', '11:06', '17:35', '21:30', '13:19', '16:16', '16:52', '18:01', '16:08', '16:10', '19:23', '03:25', '15:34', '12:42', '09:04', '09:06', '01:27', '13:37', '21:35', '12:30', '12:19', '12:37', '01:00', '01:25', '02:09', '02:17', '02:20', '15:02', '20:59', '21:29', '20:29', '20:35', '08:33', '12:31', '20:11', '04:52', '21:48', '12:10', '07:15', '02:50', '20:05', '22:25', '22:25', '22:25', '22:30', '21:53', '18:36', '19:50', '23:00', '12:53', '12:00', '11:48', '11:52', '09:50', '09:46', '11:23', '17:25', '11:25', '16:40', '20:58', '16:53', '20:55', '16:50', '15:38', '12:05', '15:08', '09:14', '09:15', '09:40', '08:20', '16:49', '22:36', '16:49', '16:56', '17:05', '17:10', '17:20', '17:30', '16:06', '20:30', '21:42', '22:05', '21:44', '10:44', '22:28', '22:26', '12:10', '12:17', '12:25', '12:08', '21:46', '16:40', '22:36', '12:19', '12:27', '12:30', '12:37', '12:40', '12:45', '12:45', '12:50', '12:55', '12:58', '16:02', '14:21', '17:30', '17:40', '22:14', '16:19', '16:15', '16:11', '16:38', '16:36', '17:14', '14:42', '10:17', '10:21', '16:40', '16:44', '09:53', '01:27', '16:15', '16:21', '16:38', '09:43', '09:46', '09:55', '10:02', '10:09', '15:38', '19:02', '18:51', '10:33', '15:47', '16:30', '16:35', '19:00', '19:10', '19:05', '19:15', '19:11', '19:08', '07:41', '08:07', '07:43', '07:40', '07:18', '07:20', '10:30', '10:48', '16:08', '12:41', '09:16', '16:04', '18:46', '11:50', '09:59', '09:07', '01:17', '09:31', '11:57', '17:51', '12:10', '12:01', '11:43', '04:12', '17:09', '01:22', '01:28', '15:25', '15:26', '16:55', '04:12', '16:18', '16:19', '10:25', '09:04', '09:46', '09:43', '12:01', '17:09', '17:05', '07:58', '12:33', '12:28', '14:30', '20:00', '01:25', '00:50', '20:45', '06:45', '12:40', '20:50', '10:30', '12:28', '15:05', '18:28', '09:30', '23:40', '12:15', '01:25', '22:59', '09:40', '15:39', '23:17', '06:50', '02:09', '01:18', '04:51', '01:30', '08:20', '08:30', '03:20', '22:18', '22:33', '02:10', '08:50', '04:45', '04:57', '11:56', '09:55', '12:30', '19:50', '17:20', '03:00', '03:23', '01:44', '03:40', '01:34', '01:37', '17:05', '20:10', '22:59', '03:35', '22:40', '17:07', '19:27', '19:27', '20:10', '08:25', '04:15', '06:05', '16:09', '01:50', '01:10', '01:10', '06:55', '01:58', '17:20', '10:38', '10:05', '08:04', '16:00', '16:00', '16:00', '16:00', '16:00', '17:10', '17:10', '05:10', '02:22', '02:22', '01:20', '02:29', '01:15', '15:29', '10:50', '02:12', '10:45', '14:23', '11:50', '01:20', '12:00', '22:38', '19:52', '16:36', '07:05', '19:10', '07:05', '18:02', '18:07', '10:43', '12:31', '12:52', '13:09', '03:42', '12:08', '02:15', '12:47', '05:28', '05:33', '05:45', '06:06', '06:26', '07:38', '12:06', '10:10', '08:38', '09:03', '13:11', '12:36', '14:09', '17:50', '18:17', '18:02', '10:05', '12:45', '12:50', '09:45', '09:51', '10:13', '08:57', '09:31', '12:59', '12:59', '13:05', '15:23', '15:30', '16:20', '13:04', '01:20', '17:55', '18:05', '19:58', '12:04', '12:13', '12:51', '15:00', '15:06', '15:15', '15:03', '21:17', '16:40', '06:44', '10:29', '11:58', '22:35', '21:07', '20:02', '01:44', '16:56', '17:32', '20:17', '18:13', '16:35', '12:58', '16:04', '18:14', '13:04', '13:37', '18:39', '20:02', '18:38', '17:08', '20:07', '17:53', '17:22', '18:35', '19:56', '18:45', '18:00', '16:40', '22:42', '10:16', '15:54', '14:15', '12:10', '07:13', '17:21', '20:31', '01:35', '01:37', '04:11', '06:55', '02:12', '02:12', '21:02', '20:10', '18:57', '19:33', '09:30', '08:46', '08:07', '16:07', '15:30', '09:30', '16:30', '07:50', '08:18', '09:36', '09:21', '08:08', '02:44', '17:30', '17:30', '17:30', '16:15', '16:15', '17:25', '16:15', '15:45', '12:38', '17:05', '20:07', '20:23', '20:35', '03:50', '07:50', '08:51', '11:19', '22:56', '09:31', '09:53', '10:08', '23:13', '22:33', '07:17', '01:20', '01:10', '01:05', '11:43', '14:11', '08:58', '15:18', '11:21', '14:58', '10:11', '05:39', '05:47', '06:14', '06:25', '08:34', '09:26', '09:58', '11:07', '05:20', '05:25', '05:43', '05:57', '06:11', '06:24', '07:27', '08:10', '08:21']\n"
     ]
    }
   ],
   "source": [
    "import collections\n",
    "time = df['Violation Time']\n",
    "time = time.tolist()\n",
    "tmppm = []\n",
    "tmpam = []\n",
    "for zeile in time:\n",
    "    if type(zeile) == str:\n",
    "        if 'P' in zeile:\n",
    "            if  not '12'in zeile:\n",
    "                wortp = zeile[0:-1]\n",
    "                wortp = int(wortp)+ 1200\n",
    "                wortp = str(wortp)\n",
    "                wortp = str(wortp[0:2]) + \":\" + str(wortp[2:])\n",
    "                tmppm.append(wortp)\n",
    "            else:\n",
    "                worta = zeile[0:-1]\n",
    "                worta = worta[0:2] + \":\" + worta[2:]\n",
    "                tmppm.append(worta)\n",
    "        else:\n",
    "            worta = zeile[0:-1]\n",
    "            worta = worta[0:2] + \":\" + worta[2:]\n",
    "            tmppm.append(worta)\n",
    "print(tmppm)"
   ]
  },
  {
   "cell_type": "code",
   "execution_count": null,
   "metadata": {
    "collapsed": true
   },
   "outputs": [],
   "source": []
  },
  {
   "cell_type": "code",
   "execution_count": 163,
   "metadata": {},
   "outputs": [
    {
     "ename": "SyntaxError",
     "evalue": "invalid syntax (<ipython-input-163-6f2a95769905>, line 27)",
     "output_type": "error",
     "traceback": [
      "\u001b[1;36m  File \u001b[1;32m\"<ipython-input-163-6f2a95769905>\"\u001b[1;36m, line \u001b[1;32m27\u001b[0m\n\u001b[1;33m    def intervall(int number):\u001b[0m\n\u001b[1;37m                           ^\u001b[0m\n\u001b[1;31mSyntaxError\u001b[0m\u001b[1;31m:\u001b[0m invalid syntax\n"
     ]
    }
   ],
   "source": [
    "import collections\n",
    "time = df['Violation Time']\n",
    "time = time.tolist()\n",
    "tmppm = []\n",
    "tmpam = []\n",
    "def sortTime( ):\n",
    "    for zeile in time:\n",
    "        if type(zeile) == str:\n",
    "            if 'P' in zeile:\n",
    "                if  not '12'in zeile:\n",
    "                    wortp = zeile[0:-1]\n",
    "                    wortp = int(wortp)+ 1200\n",
    "                    wortp = str(wortp)\n",
    "                    wortp = str(wortp[0:2]) + \":\" + str(wortp[2:])\n",
    "                    tmppm.append(wortp)\n",
    "                else:\n",
    "                    wortpm = zeile[0:-1]\n",
    "                    wortpm = '00' +\":\" + zeile.split('2')[1]\n",
    "                    tmppm.append(wortpm)\n",
    "            else:\n",
    "                worta = zeile[0:-1]\n",
    "                worta = worta[0:2] + \":\" + worta[2:]\n",
    "                tmppm.append(worta)\n",
    "   # print(tmppm)\n",
    "    return tmppm\n",
    "\n",
    "def intervall(int number):\n",
    "    tmp = []\n",
    "    alist = sortTime()\n",
    "    for i in alist:\n",
    "        wort1 = i.split(':')[0]\n",
    "        wort2 = i.split(':')[1]\n",
    "        if '00' in wort1:\n",
    "            wort = str( 0 + number ) +\":\" + wort2\n",
    "            tmp.append(wort)\n",
    "        else:\n",
    "            wort = int(wort1)\n",
    "            wort = wort + number\n",
    "            wort = str(wort)+ ':' + wort2\n",
    "            tmp.append(wort) \n",
    "\n",
    "        \n",
    "        \n",
    "    return tmp\n",
    "\n",
    "\n",
    "print(sortTime( ))\n",
    "print(intervall(3))\n"
   ]
  },
  {
   "cell_type": "code",
   "execution_count": null,
   "metadata": {
    "collapsed": true
   },
   "outputs": [],
   "source": []
  },
  {
   "cell_type": "code",
   "execution_count": null,
   "metadata": {
    "collapsed": true
   },
   "outputs": [],
   "source": []
  },
  {
   "cell_type": "code",
   "execution_count": null,
   "metadata": {
    "collapsed": true
   },
   "outputs": [],
   "source": []
  },
  {
   "cell_type": "code",
   "execution_count": null,
   "metadata": {
    "collapsed": true
   },
   "outputs": [],
   "source": []
  },
  {
   "cell_type": "code",
   "execution_count": 162,
   "metadata": {},
   "outputs": [
    {
     "name": "stdout",
     "output_type": "stream",
     "text": [
      "['3:30', '12:23', '15:26']\n"
     ]
    }
   ],
   "source": [
    "alist = ['00:30', '09:23', '12:26']\n",
    "tmp = []\n",
    "for i in alist:\n",
    "    wort = i.split(':')[0]\n",
    "    wort2 = i.split(':')[1]\n",
    "    #wortz = int(wort)\n",
    "    if '00' in wort:\n",
    "        wort = str(0+3)+ ':' + wort2\n",
    "        tmp.append(wort)\n",
    "    else:\n",
    "        wort = int(wort)\n",
    "        wort = wort +3\n",
    "        wort = str(wort)+ ':' + wort2\n",
    "        tmp.append(wort)\n",
    "\n",
    "print(tmp)"
   ]
  },
  {
   "cell_type": "code",
   "execution_count": null,
   "metadata": {
    "collapsed": true
   },
   "outputs": [],
   "source": []
  },
  {
   "cell_type": "code",
   "execution_count": null,
   "metadata": {
    "collapsed": true
   },
   "outputs": [],
   "source": []
  },
  {
   "cell_type": "code",
   "execution_count": null,
   "metadata": {
    "collapsed": true
   },
   "outputs": [],
   "source": []
  },
  {
   "cell_type": "code",
   "execution_count": null,
   "metadata": {
    "collapsed": true
   },
   "outputs": [],
   "source": []
  },
  {
   "cell_type": "code",
   "execution_count": null,
   "metadata": {
    "collapsed": true
   },
   "outputs": [],
   "source": []
  },
  {
   "cell_type": "code",
   "execution_count": null,
   "metadata": {
    "collapsed": true
   },
   "outputs": [],
   "source": []
  },
  {
   "cell_type": "code",
   "execution_count": null,
   "metadata": {
    "collapsed": true
   },
   "outputs": [],
   "source": []
  },
  {
   "cell_type": "code",
   "execution_count": null,
   "metadata": {
    "collapsed": true
   },
   "outputs": [],
   "source": []
  },
  {
   "cell_type": "code",
   "execution_count": null,
   "metadata": {
    "collapsed": true
   },
   "outputs": [],
   "source": []
  },
  {
   "cell_type": "code",
   "execution_count": null,
   "metadata": {
    "collapsed": true
   },
   "outputs": [],
   "source": []
  },
  {
   "cell_type": "code",
   "execution_count": null,
   "metadata": {
    "collapsed": true
   },
   "outputs": [],
   "source": []
  },
  {
   "cell_type": "code",
   "execution_count": null,
   "metadata": {
    "collapsed": true
   },
   "outputs": [],
   "source": []
  },
  {
   "cell_type": "code",
   "execution_count": null,
   "metadata": {
    "collapsed": true
   },
   "outputs": [],
   "source": []
  },
  {
   "cell_type": "code",
   "execution_count": null,
   "metadata": {
    "collapsed": true
   },
   "outputs": [],
   "source": []
  },
  {
   "cell_type": "code",
   "execution_count": null,
   "metadata": {
    "collapsed": true
   },
   "outputs": [],
   "source": []
  },
  {
   "cell_type": "code",
   "execution_count": null,
   "metadata": {
    "collapsed": true
   },
   "outputs": [],
   "source": []
  },
  {
   "cell_type": "code",
   "execution_count": null,
   "metadata": {
    "collapsed": true
   },
   "outputs": [],
   "source": []
  },
  {
   "cell_type": "code",
   "execution_count": null,
   "metadata": {
    "collapsed": true
   },
   "outputs": [],
   "source": []
  },
  {
   "cell_type": "code",
   "execution_count": null,
   "metadata": {
    "collapsed": true
   },
   "outputs": [],
   "source": []
  },
  {
   "cell_type": "code",
   "execution_count": null,
   "metadata": {
    "collapsed": true
   },
   "outputs": [],
   "source": []
  },
  {
   "cell_type": "code",
   "execution_count": null,
   "metadata": {
    "collapsed": true
   },
   "outputs": [],
   "source": []
  },
  {
   "cell_type": "code",
   "execution_count": null,
   "metadata": {
    "collapsed": true
   },
   "outputs": [],
   "source": []
  },
  {
   "cell_type": "code",
   "execution_count": null,
   "metadata": {
    "collapsed": true
   },
   "outputs": [],
   "source": []
  },
  {
   "cell_type": "code",
   "execution_count": null,
   "metadata": {
    "collapsed": true
   },
   "outputs": [],
   "source": []
  },
  {
   "cell_type": "code",
   "execution_count": null,
   "metadata": {
    "collapsed": true
   },
   "outputs": [],
   "source": []
  },
  {
   "cell_type": "code",
   "execution_count": null,
   "metadata": {
    "collapsed": true
   },
   "outputs": [],
   "source": []
  },
  {
   "cell_type": "code",
   "execution_count": null,
   "metadata": {
    "collapsed": true
   },
   "outputs": [],
   "source": []
  },
  {
   "cell_type": "code",
   "execution_count": null,
   "metadata": {
    "collapsed": true
   },
   "outputs": [],
   "source": []
  },
  {
   "cell_type": "code",
   "execution_count": 130,
   "metadata": {},
   "outputs": [
    {
     "name": "stdout",
     "output_type": "stream",
     "text": [
      "25\n",
      "<class 'str'>\n",
      "['2:5']\n"
     ]
    }
   ],
   "source": [
    "tmp = \"012a\"\n",
    "tmp = tmp[0:-1]\n",
    "\n",
    "print(int(tmp)+13)\n",
    "tmp = int(tmp)+13\n",
    "tmp = str(tmp)\n",
    "print(type(tmp))\n",
    "tmp = str(tmp)\n",
    "tmp = str(tmp[0:-1]) + \":\" + str(tmp[1:])\n",
    "alist = []\n",
    "alist.append(tmp)\n",
    "print(alist)"
   ]
  },
  {
   "cell_type": "code",
   "execution_count": null,
   "metadata": {
    "collapsed": true
   },
   "outputs": [],
   "source": []
  },
  {
   "cell_type": "code",
   "execution_count": null,
   "metadata": {
    "collapsed": true
   },
   "outputs": [],
   "source": []
  },
  {
   "cell_type": "code",
   "execution_count": null,
   "metadata": {
    "collapsed": true
   },
   "outputs": [],
   "source": []
  },
  {
   "cell_type": "code",
   "execution_count": null,
   "metadata": {
    "collapsed": true
   },
   "outputs": [],
   "source": []
  },
  {
   "cell_type": "code",
   "execution_count": null,
   "metadata": {
    "collapsed": true
   },
   "outputs": [],
   "source": []
  },
  {
   "cell_type": "code",
   "execution_count": null,
   "metadata": {
    "collapsed": true
   },
   "outputs": [],
   "source": []
  },
  {
   "cell_type": "code",
   "execution_count": null,
   "metadata": {
    "collapsed": true
   },
   "outputs": [],
   "source": []
  },
  {
   "cell_type": "code",
   "execution_count": 114,
   "metadata": {},
   "outputs": [
    {
     "name": "stdout",
     "output_type": "stream",
     "text": [
      "12\n",
      "['01:12']\n"
     ]
    }
   ],
   "source": [
    "tmp = \"012a\"\n",
    "tmp = tmp[0:-1]\n",
    "\n",
    "print(int(tmp))\n",
    "tmp = tmp[0:-1] + \":\" + tmp[1:]\n",
    "alist = []\n",
    "alist.append(tmp)\n",
    "print(alist)"
   ]
  },
  {
   "cell_type": "code",
   "execution_count": null,
   "metadata": {
    "collapsed": true
   },
   "outputs": [],
   "source": []
  },
  {
   "cell_type": "code",
   "execution_count": null,
   "metadata": {
    "collapsed": true
   },
   "outputs": [],
   "source": []
  },
  {
   "cell_type": "code",
   "execution_count": null,
   "metadata": {
    "collapsed": true
   },
   "outputs": [],
   "source": []
  },
  {
   "cell_type": "code",
   "execution_count": null,
   "metadata": {
    "collapsed": true
   },
   "outputs": [],
   "source": []
  },
  {
   "cell_type": "code",
   "execution_count": null,
   "metadata": {
    "collapsed": true
   },
   "outputs": [],
   "source": []
  },
  {
   "cell_type": "code",
   "execution_count": null,
   "metadata": {
    "collapsed": true
   },
   "outputs": [],
   "source": []
  },
  {
   "cell_type": "code",
   "execution_count": null,
   "metadata": {
    "collapsed": true
   },
   "outputs": [],
   "source": []
  },
  {
   "cell_type": "code",
   "execution_count": null,
   "metadata": {
    "collapsed": true
   },
   "outputs": [],
   "source": []
  },
  {
   "cell_type": "code",
   "execution_count": null,
   "metadata": {
    "collapsed": true
   },
   "outputs": [],
   "source": []
  },
  {
   "cell_type": "code",
   "execution_count": null,
   "metadata": {
    "collapsed": true
   },
   "outputs": [],
   "source": []
  },
  {
   "cell_type": "code",
   "execution_count": null,
   "metadata": {
    "collapsed": true
   },
   "outputs": [],
   "source": []
  },
  {
   "cell_type": "code",
   "execution_count": null,
   "metadata": {
    "collapsed": true
   },
   "outputs": [],
   "source": []
  },
  {
   "cell_type": "code",
   "execution_count": null,
   "metadata": {
    "collapsed": true
   },
   "outputs": [],
   "source": []
  },
  {
   "cell_type": "code",
   "execution_count": null,
   "metadata": {
    "collapsed": true
   },
   "outputs": [],
   "source": []
  },
  {
   "cell_type": "code",
   "execution_count": null,
   "metadata": {
    "collapsed": true
   },
   "outputs": [],
   "source": []
  },
  {
   "cell_type": "code",
   "execution_count": null,
   "metadata": {
    "collapsed": true
   },
   "outputs": [],
   "source": []
  },
  {
   "cell_type": "code",
   "execution_count": null,
   "metadata": {
    "collapsed": true
   },
   "outputs": [],
   "source": []
  },
  {
   "cell_type": "code",
   "execution_count": null,
   "metadata": {
    "collapsed": true
   },
   "outputs": [],
   "source": []
  },
  {
   "cell_type": "code",
   "execution_count": null,
   "metadata": {
    "collapsed": true
   },
   "outputs": [],
   "source": []
  },
  {
   "cell_type": "code",
   "execution_count": null,
   "metadata": {
    "collapsed": true
   },
   "outputs": [],
   "source": []
  },
  {
   "cell_type": "code",
   "execution_count": null,
   "metadata": {
    "collapsed": true
   },
   "outputs": [],
   "source": []
  },
  {
   "cell_type": "code",
   "execution_count": null,
   "metadata": {
    "collapsed": true
   },
   "outputs": [],
   "source": []
  },
  {
   "cell_type": "code",
   "execution_count": null,
   "metadata": {
    "collapsed": true
   },
   "outputs": [],
   "source": []
  },
  {
   "cell_type": "code",
   "execution_count": null,
   "metadata": {
    "collapsed": true
   },
   "outputs": [],
   "source": []
  },
  {
   "cell_type": "code",
   "execution_count": null,
   "metadata": {
    "collapsed": true
   },
   "outputs": [],
   "source": []
  }
 ],
 "metadata": {
  "kernelspec": {
   "display_name": "Python 3",
   "language": "python",
   "name": "python3"
  },
  "language_info": {
   "codemirror_mode": {
    "name": "ipython",
    "version": 3
   },
   "file_extension": ".py",
   "mimetype": "text/x-python",
   "name": "python",
   "nbconvert_exporter": "python",
   "pygments_lexer": "ipython3",
   "version": "3.6.3"
  }
 },
 "nbformat": 4,
 "nbformat_minor": 2
}
